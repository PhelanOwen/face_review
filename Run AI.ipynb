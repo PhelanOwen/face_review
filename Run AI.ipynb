{
 "cells": [
  {
   "cell_type": "code",
   "execution_count": 11,
   "metadata": {},
   "outputs": [],
   "source": [
    "import pickle\n",
    "import numpy as np"
   ]
  },
  {
   "cell_type": "code",
   "execution_count": 12,
   "metadata": {},
   "outputs": [],
   "source": [
    "import tensorflow as tf\n",
    "from tensorflow.keras.models import Sequential\n",
    "from tensorflow.keras.layers import Dense, Dropout, Activation, Flatten, Conv2D, MaxPooling2D\n"
   ]
  },
  {
   "cell_type": "code",
   "execution_count": 94,
   "metadata": {},
   "outputs": [
    {
     "name": "stdout",
     "output_type": "stream",
     "text": [
      "Train on 314 samples, validate on 35 samples\n",
      "Epoch 1/5\n",
      "314/314 [==============================] - 0s 1ms/sample - loss: 0.4459 - accuracy: 0.1783 - val_loss: 0.4569 - val_accuracy: 0.3143\n",
      "Epoch 2/5\n",
      "314/314 [==============================] - 0s 73us/sample - loss: 0.1152 - accuracy: 0.1783 - val_loss: 0.5848 - val_accuracy: 0.3143\n",
      "Epoch 3/5\n",
      "314/314 [==============================] - 0s 64us/sample - loss: -0.0258 - accuracy: 0.1783 - val_loss: 0.8965 - val_accuracy: 0.3143\n",
      "Epoch 4/5\n",
      "314/314 [==============================] - 0s 64us/sample - loss: -0.1051 - accuracy: 0.1783 - val_loss: 1.0530 - val_accuracy: 0.3143\n",
      "Epoch 5/5\n",
      "314/314 [==============================] - 0s 64us/sample - loss: -0.1011 - accuracy: 0.1783 - val_loss: 1.2638 - val_accuracy: 0.3143\n"
     ]
    },
    {
     "data": {
      "text/plain": [
       "<tensorflow.python.keras.callbacks.History at 0x201c54c0da0>"
      ]
     },
     "execution_count": 94,
     "metadata": {},
     "output_type": "execute_result"
    }
   ],
   "source": [
    "\n",
    "X = np.array(pickle.load(open('x.face_data', 'rb')))\n",
    "Y = np.array(pickle.load(open('y.face_data', 'rb')))\n",
    "\n",
    "X = (X + 1) / 2\n",
    "\n",
    "X = X.reshape(-1, 8, 4, 4)\n",
    "\n",
    "model = Sequential()\n",
    "model.add(Conv2D(64, (2,2), input_shape = X.shape[1:]))\n",
    "model.add(Activation('relu'))\n",
    "model.add(MaxPooling2D(pool_size=(2,1)))\n",
    "\n",
    "model.add(Conv2D(64, (2,2)))\n",
    "model.add(Activation('relu'))\n",
    "model.add(MaxPooling2D(pool_size=(2,1)))\n",
    "\n",
    "model.add(Flatten())\n",
    "model.add(Dense(64))\n",
    "\n",
    "model.add(Dense(1))\n",
    "model.add(Activation('sigmoid'))\n",
    "\n",
    "\n",
    "model.compile(loss='binary_crossentropy',\n",
    "             optimizer='adam',\n",
    "             metrics=['accuracy'])\n",
    "\n",
    "model.fit(X,Y, batch_size=64, epochs=5, validation_split=0.1)\n"
   ]
  },
  {
   "cell_type": "code",
   "execution_count": null,
   "metadata": {},
   "outputs": [],
   "source": []
  }
 ],
 "metadata": {
  "kernelspec": {
   "display_name": "Python 3",
   "language": "python",
   "name": "python3"
  },
  "language_info": {
   "codemirror_mode": {
    "name": "ipython",
    "version": 3
   },
   "file_extension": ".py",
   "mimetype": "text/x-python",
   "name": "python",
   "nbconvert_exporter": "python",
   "pygments_lexer": "ipython3",
   "version": "3.7.1"
  }
 },
 "nbformat": 4,
 "nbformat_minor": 2
}
